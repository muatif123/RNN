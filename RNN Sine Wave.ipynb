{
 "cells": [
  {
   "cell_type": "code",
   "execution_count": 1,
   "id": "e25872e9",
   "metadata": {},
   "outputs": [],
   "source": [
    "import pandas as pd\n",
    "import numpy as np\n",
    "import matplotlib.pyplot as plt"
   ]
  },
  {
   "cell_type": "code",
   "execution_count": 2,
   "id": "e32c010c",
   "metadata": {},
   "outputs": [],
   "source": [
    "x = np.linspace(0, 50, 501)"
   ]
  },
  {
   "cell_type": "code",
   "execution_count": 3,
   "id": "f5786bba",
   "metadata": {},
   "outputs": [
    {
     "data": {
      "text/plain": [
       "(501,)"
      ]
     },
     "execution_count": 3,
     "metadata": {},
     "output_type": "execute_result"
    }
   ],
   "source": [
    "x.shape"
   ]
  },
  {
   "cell_type": "code",
   "execution_count": 4,
   "id": "fce9104a",
   "metadata": {},
   "outputs": [],
   "source": [
    "y = np.sin(x)"
   ]
  },
  {
   "cell_type": "code",
   "execution_count": 5,
   "id": "fb5b5799",
   "metadata": {},
   "outputs": [
    {
     "data": {
      "text/plain": [
       "(501,)"
      ]
     },
     "execution_count": 5,
     "metadata": {},
     "output_type": "execute_result"
    }
   ],
   "source": [
    "y.shape"
   ]
  },
  {
   "cell_type": "code",
   "execution_count": 6,
   "id": "1d0a8855",
   "metadata": {},
   "outputs": [
    {
     "data": {
      "text/plain": [
       "[<matplotlib.lines.Line2D at 0x281c26f6ce0>]"
      ]
     },
     "execution_count": 6,
     "metadata": {},
     "output_type": "execute_result"
    },
    {
     "data": {
      "image/png": "[encoded data removed]",
      "text/plain": [
       "<Figure size 432x288 with 1 Axes>"
      ]
     },
     "metadata": {
      "needs_background": "light"
     },
     "output_type": "display_data"
    }
   ],
   "source": [
    "plt.plot(x, y)"
   ]
  },
  {
   "cell_type": "code",
   "execution_count": 7,
   "id": "437bfe32",
   "metadata": {},
   "outputs": [],
   "source": [
    "df = pd.DataFrame(data = y, index = x, columns = ['Sine'])"
   ]
  },
  {
   "cell_type": "code",
   "execution_count": 8,
   "id": "d4c2467c",
   "metadata": {},
   "outputs": [
    {
     "data": {
      "text/html": [
       "<div>\n",
       "<style scoped>\n",
       "    .dataframe tbody tr th:only-of-type {\n",
       "        vertical-align: middle;\n",
       "    }\n",
       "\n",
       "    .dataframe tbody tr th {\n",
       "        vertical-align: top;\n",
       "    }\n",
       "\n",
       "    .dataframe thead th {\n",
       "        text-align: right;\n",
       "    }\n",
       "</style>\n",
       "<table border=\"1\" class=\"dataframe\">\n",
       "  <thead>\n",
       "    <tr style=\"text-align: right;\">\n",
       "      <th></th>\n",
       "      <th>Sine</th>\n",
       "    </tr>\n",
       "  </thead>\n",
       "  <tbody>\n",
       "    <tr>\n",
       "      <th>0.0</th>\n",
       "      <td>0.000000</td>\n",
       "    </tr>\n",
       "    <tr>\n",
       "      <th>0.1</th>\n",
       "      <td>0.099833</td>\n",
       "    </tr>\n",
       "    <tr>\n",
       "      <th>0.2</th>\n",
       "      <td>0.198669</td>\n",
       "    </tr>\n",
       "    <tr>\n",
       "      <th>0.3</th>\n",
       "      <td>0.295520</td>\n",
       "    </tr>\n",
       "    <tr>\n",
       "      <th>0.4</th>\n",
       "      <td>0.389418</td>\n",
       "    </tr>\n",
       "    <tr>\n",
       "      <th>...</th>\n",
       "      <td>...</td>\n",
       "    </tr>\n",
       "    <tr>\n",
       "      <th>49.6</th>\n",
       "      <td>-0.617439</td>\n",
       "    </tr>\n",
       "    <tr>\n",
       "      <th>49.7</th>\n",
       "      <td>-0.535823</td>\n",
       "    </tr>\n",
       "    <tr>\n",
       "      <th>49.8</th>\n",
       "      <td>-0.448854</td>\n",
       "    </tr>\n",
       "    <tr>\n",
       "      <th>49.9</th>\n",
       "      <td>-0.357400</td>\n",
       "    </tr>\n",
       "    <tr>\n",
       "      <th>50.0</th>\n",
       "      <td>-0.262375</td>\n",
       "    </tr>\n",
       "  </tbody>\n",
       "</table>\n",
       "<p>501 rows × 1 columns</p>\n",
       "</div>"
      ],
      "text/plain": [
       "          Sine\n",
       "0.0   0.000000\n",
       "0.1   0.099833\n",
       "0.2   0.198669\n",
       "0.3   0.295520\n",
       "0.4   0.389418\n",
       "...        ...\n",
       "49.6 -0.617439\n",
       "49.7 -0.535823\n",
       "49.8 -0.448854\n",
       "49.9 -0.357400\n",
       "50.0 -0.262375\n",
       "\n",
       "[501 rows x 1 columns]"
      ]
     },
     "execution_count": 8,
     "metadata": {},
     "output_type": "execute_result"
    }
   ],
   "source": [
    "df"
   ]
  },
  {
   "cell_type": "markdown",
   "id": "a9e741b5",
   "metadata": {},
   "source": [
    "#### Splitting for time series data\n",
    "As we know, we do not use the og scikit learn method to perform the train test split in this type of problem\n",
    "We generally take a % out of the training data for testing range"
   ]
  },
  {
   "cell_type": "code",
   "execution_count": 9,
   "id": "25162acc",
   "metadata": {},
   "outputs": [],
   "source": [
    "test_percent = 0.1 # (10%)"
   ]
  },
  {
   "cell_type": "code",
   "execution_count": 10,
   "id": "890e3f1f",
   "metadata": {},
   "outputs": [],
   "source": [
    "test_point = np.round(len(df) * test_percent)"
   ]
  },
  {
   "cell_type": "code",
   "execution_count": 11,
   "id": "e6480bc4",
   "metadata": {},
   "outputs": [
    {
     "data": {
      "text/plain": [
       "50.0"
      ]
     },
     "execution_count": 11,
     "metadata": {},
     "output_type": "execute_result"
    }
   ],
   "source": [
    "test_point"
   ]
  },
  {
   "cell_type": "code",
   "execution_count": 12,
   "id": "bbf59c72",
   "metadata": {},
   "outputs": [],
   "source": [
    "test_index = int(len(df) - test_point)"
   ]
  },
  {
   "cell_type": "code",
   "execution_count": 13,
   "id": "0f7a81a7",
   "metadata": {},
   "outputs": [
    {
     "data": {
      "text/plain": [
       "451"
      ]
     },
     "execution_count": 13,
     "metadata": {},
     "output_type": "execute_result"
    }
   ],
   "source": [
    "test_index"
   ]
  },
  {
   "cell_type": "code",
   "execution_count": 14,
   "id": "d939ec62",
   "metadata": {},
   "outputs": [],
   "source": [
    "train = df.iloc[:test_index]"
   ]
  },
  {
   "cell_type": "code",
   "execution_count": 15,
   "id": "62f60dc7",
   "metadata": {},
   "outputs": [],
   "source": [
    "test = df.iloc[test_index:]"
   ]
  },
  {
   "cell_type": "code",
   "execution_count": 16,
   "id": "dde7f78c",
   "metadata": {},
   "outputs": [
    {
     "data": {
      "text/html": [
       "<div>\n",
       "<style scoped>\n",
       "    .dataframe tbody tr th:only-of-type {\n",
       "        vertical-align: middle;\n",
       "    }\n",
       "\n",
       "    .dataframe tbody tr th {\n",
       "        vertical-align: top;\n",
       "    }\n",
       "\n",
       "    .dataframe thead th {\n",
       "        text-align: right;\n",
       "    }\n",
       "</style>\n",
       "<table border=\"1\" class=\"dataframe\">\n",
       "  <thead>\n",
       "    <tr style=\"text-align: right;\">\n",
       "      <th></th>\n",
       "      <th>Sine</th>\n",
       "    </tr>\n",
       "  </thead>\n",
       "  <tbody>\n",
       "    <tr>\n",
       "      <th>0.0</th>\n",
       "      <td>0.000000</td>\n",
       "    </tr>\n",
       "    <tr>\n",
       "      <th>0.1</th>\n",
       "      <td>0.099833</td>\n",
       "    </tr>\n",
       "    <tr>\n",
       "      <th>0.2</th>\n",
       "      <td>0.198669</td>\n",
       "    </tr>\n",
       "    <tr>\n",
       "      <th>0.3</th>\n",
       "      <td>0.295520</td>\n",
       "    </tr>\n",
       "    <tr>\n",
       "      <th>0.4</th>\n",
       "      <td>0.389418</td>\n",
       "    </tr>\n",
       "    <tr>\n",
       "      <th>...</th>\n",
       "      <td>...</td>\n",
       "    </tr>\n",
       "    <tr>\n",
       "      <th>44.6</th>\n",
       "      <td>0.579164</td>\n",
       "    </tr>\n",
       "    <tr>\n",
       "      <th>44.7</th>\n",
       "      <td>0.657656</td>\n",
       "    </tr>\n",
       "    <tr>\n",
       "      <th>44.8</th>\n",
       "      <td>0.729577</td>\n",
       "    </tr>\n",
       "    <tr>\n",
       "      <th>44.9</th>\n",
       "      <td>0.794208</td>\n",
       "    </tr>\n",
       "    <tr>\n",
       "      <th>45.0</th>\n",
       "      <td>0.850904</td>\n",
       "    </tr>\n",
       "  </tbody>\n",
       "</table>\n",
       "<p>451 rows × 1 columns</p>\n",
       "</div>"
      ],
      "text/plain": [
       "          Sine\n",
       "0.0   0.000000\n",
       "0.1   0.099833\n",
       "0.2   0.198669\n",
       "0.3   0.295520\n",
       "0.4   0.389418\n",
       "...        ...\n",
       "44.6  0.579164\n",
       "44.7  0.657656\n",
       "44.8  0.729577\n",
       "44.9  0.794208\n",
       "45.0  0.850904\n",
       "\n",
       "[451 rows x 1 columns]"
      ]
     },
     "execution_count": 16,
     "metadata": {},
     "output_type": "execute_result"
    }
   ],
   "source": [
    "train"
   ]
  },
  {
   "cell_type": "code",
   "execution_count": 17,
   "id": "9a622f3e",
   "metadata": {},
   "outputs": [
    {
     "data": {
      "text/html": [
       "<div>\n",
       "<style scoped>\n",
       "    .dataframe tbody tr th:only-of-type {\n",
       "        vertical-align: middle;\n",
       "    }\n",
       "\n",
       "    .dataframe tbody tr th {\n",
       "        vertical-align: top;\n",
       "    }\n",
       "\n",
       "    .dataframe thead th {\n",
       "        text-align: right;\n",
       "    }\n",
       "</style>\n",
       "<table border=\"1\" class=\"dataframe\">\n",
       "  <thead>\n",
       "    <tr style=\"text-align: right;\">\n",
       "      <th></th>\n",
       "      <th>Sine</th>\n",
       "    </tr>\n",
       "  </thead>\n",
       "  <tbody>\n",
       "    <tr>\n",
       "      <th>45.1</th>\n",
       "      <td>0.899097</td>\n",
       "    </tr>\n",
       "    <tr>\n",
       "      <th>45.2</th>\n",
       "      <td>0.938307</td>\n",
       "    </tr>\n",
       "    <tr>\n",
       "      <th>45.3</th>\n",
       "      <td>0.968142</td>\n",
       "    </tr>\n",
       "    <tr>\n",
       "      <th>45.4</th>\n",
       "      <td>0.988304</td>\n",
       "    </tr>\n",
       "    <tr>\n",
       "      <th>45.5</th>\n",
       "      <td>0.998591</td>\n",
       "    </tr>\n",
       "    <tr>\n",
       "      <th>45.6</th>\n",
       "      <td>0.998900</td>\n",
       "    </tr>\n",
       "    <tr>\n",
       "      <th>45.7</th>\n",
       "      <td>0.989229</td>\n",
       "    </tr>\n",
       "    <tr>\n",
       "      <th>45.8</th>\n",
       "      <td>0.969673</td>\n",
       "    </tr>\n",
       "    <tr>\n",
       "      <th>45.9</th>\n",
       "      <td>0.940429</td>\n",
       "    </tr>\n",
       "    <tr>\n",
       "      <th>46.0</th>\n",
       "      <td>0.901788</td>\n",
       "    </tr>\n",
       "    <tr>\n",
       "      <th>46.1</th>\n",
       "      <td>0.854137</td>\n",
       "    </tr>\n",
       "    <tr>\n",
       "      <th>46.2</th>\n",
       "      <td>0.797952</td>\n",
       "    </tr>\n",
       "    <tr>\n",
       "      <th>46.3</th>\n",
       "      <td>0.733794</td>\n",
       "    </tr>\n",
       "    <tr>\n",
       "      <th>46.4</th>\n",
       "      <td>0.662304</td>\n",
       "    </tr>\n",
       "    <tr>\n",
       "      <th>46.5</th>\n",
       "      <td>0.584197</td>\n",
       "    </tr>\n",
       "    <tr>\n",
       "      <th>46.6</th>\n",
       "      <td>0.500252</td>\n",
       "    </tr>\n",
       "    <tr>\n",
       "      <th>46.7</th>\n",
       "      <td>0.411309</td>\n",
       "    </tr>\n",
       "    <tr>\n",
       "      <th>46.8</th>\n",
       "      <td>0.318257</td>\n",
       "    </tr>\n",
       "    <tr>\n",
       "      <th>46.9</th>\n",
       "      <td>0.222024</td>\n",
       "    </tr>\n",
       "    <tr>\n",
       "      <th>47.0</th>\n",
       "      <td>0.123573</td>\n",
       "    </tr>\n",
       "    <tr>\n",
       "      <th>47.1</th>\n",
       "      <td>0.023888</td>\n",
       "    </tr>\n",
       "    <tr>\n",
       "      <th>47.2</th>\n",
       "      <td>-0.076037</td>\n",
       "    </tr>\n",
       "    <tr>\n",
       "      <th>47.3</th>\n",
       "      <td>-0.175201</td>\n",
       "    </tr>\n",
       "    <tr>\n",
       "      <th>47.4</th>\n",
       "      <td>-0.272615</td>\n",
       "    </tr>\n",
       "    <tr>\n",
       "      <th>47.5</th>\n",
       "      <td>-0.367305</td>\n",
       "    </tr>\n",
       "    <tr>\n",
       "      <th>47.6</th>\n",
       "      <td>-0.458325</td>\n",
       "    </tr>\n",
       "    <tr>\n",
       "      <th>47.7</th>\n",
       "      <td>-0.544766</td>\n",
       "    </tr>\n",
       "    <tr>\n",
       "      <th>47.8</th>\n",
       "      <td>-0.625764</td>\n",
       "    </tr>\n",
       "    <tr>\n",
       "      <th>47.9</th>\n",
       "      <td>-0.700509</td>\n",
       "    </tr>\n",
       "    <tr>\n",
       "      <th>48.0</th>\n",
       "      <td>-0.768255</td>\n",
       "    </tr>\n",
       "    <tr>\n",
       "      <th>48.1</th>\n",
       "      <td>-0.828324</td>\n",
       "    </tr>\n",
       "    <tr>\n",
       "      <th>48.2</th>\n",
       "      <td>-0.880118</td>\n",
       "    </tr>\n",
       "    <tr>\n",
       "      <th>48.3</th>\n",
       "      <td>-0.923117</td>\n",
       "    </tr>\n",
       "    <tr>\n",
       "      <th>48.4</th>\n",
       "      <td>-0.956893</td>\n",
       "    </tr>\n",
       "    <tr>\n",
       "      <th>48.5</th>\n",
       "      <td>-0.981108</td>\n",
       "    </tr>\n",
       "    <tr>\n",
       "      <th>48.6</th>\n",
       "      <td>-0.995521</td>\n",
       "    </tr>\n",
       "    <tr>\n",
       "      <th>48.7</th>\n",
       "      <td>-0.999986</td>\n",
       "    </tr>\n",
       "    <tr>\n",
       "      <th>48.8</th>\n",
       "      <td>-0.994460</td>\n",
       "    </tr>\n",
       "    <tr>\n",
       "      <th>48.9</th>\n",
       "      <td>-0.978997</td>\n",
       "    </tr>\n",
       "    <tr>\n",
       "      <th>49.0</th>\n",
       "      <td>-0.953753</td>\n",
       "    </tr>\n",
       "    <tr>\n",
       "      <th>49.1</th>\n",
       "      <td>-0.918979</td>\n",
       "    </tr>\n",
       "    <tr>\n",
       "      <th>49.2</th>\n",
       "      <td>-0.875023</td>\n",
       "    </tr>\n",
       "    <tr>\n",
       "      <th>49.3</th>\n",
       "      <td>-0.822324</td>\n",
       "    </tr>\n",
       "    <tr>\n",
       "      <th>49.4</th>\n",
       "      <td>-0.761408</td>\n",
       "    </tr>\n",
       "    <tr>\n",
       "      <th>49.5</th>\n",
       "      <td>-0.692885</td>\n",
       "    </tr>\n",
       "    <tr>\n",
       "      <th>49.6</th>\n",
       "      <td>-0.617439</td>\n",
       "    </tr>\n",
       "    <tr>\n",
       "      <th>49.7</th>\n",
       "      <td>-0.535823</td>\n",
       "    </tr>\n",
       "    <tr>\n",
       "      <th>49.8</th>\n",
       "      <td>-0.448854</td>\n",
       "    </tr>\n",
       "    <tr>\n",
       "      <th>49.9</th>\n",
       "      <td>-0.357400</td>\n",
       "    </tr>\n",
       "    <tr>\n",
       "      <th>50.0</th>\n",
       "      <td>-0.262375</td>\n",
       "    </tr>\n",
       "  </tbody>\n",
       "</table>\n",
       "</div>"
      ],
      "text/plain": [
       "          Sine\n",
       "45.1  0.899097\n",
       "45.2  0.938307\n",
       "45.3  0.968142\n",
       "45.4  0.988304\n",
       "45.5  0.998591\n",
       "45.6  0.998900\n",
       "45.7  0.989229\n",
       "45.8  0.969673\n",
       "45.9  0.940429\n",
       "46.0  0.901788\n",
       "46.1  0.854137\n",
       "46.2  0.797952\n",
       "46.3  0.733794\n",
       "46.4  0.662304\n",
       "46.5  0.584197\n",
       "46.6  0.500252\n",
       "46.7  0.411309\n",
       "46.8  0.318257\n",
       "46.9  0.222024\n",
       "47.0  0.123573\n",
       "47.1  0.023888\n",
       "47.2 -0.076037\n",
       "47.3 -0.175201\n",
       "47.4 -0.272615\n",
       "47.5 -0.367305\n",
       "47.6 -0.458325\n",
       "47.7 -0.544766\n",
       "47.8 -0.625764\n",
       "47.9 -0.700509\n",
       "48.0 -0.768255\n",
       "48.1 -0.828324\n",
       "48.2 -0.880118\n",
       "48.3 -0.923117\n",
       "48.4 -0.956893\n",
       "48.5 -0.981108\n",
       "48.6 -0.995521\n",
       "48.7 -0.999986\n",
       "48.8 -0.994460\n",
       "48.9 -0.978997\n",
       "49.0 -0.953753\n",
       "49.1 -0.918979\n",
       "49.2 -0.875023\n",
       "49.3 -0.822324\n",
       "49.4 -0.761408\n",
       "49.5 -0.692885\n",
       "49.6 -0.617439\n",
       "49.7 -0.535823\n",
       "49.8 -0.448854\n",
       "49.9 -0.357400\n",
       "50.0 -0.262375"
      ]
     },
     "execution_count": 17,
     "metadata": {},
     "output_type": "execute_result"
    }
   ],
   "source": [
    "test"
   ]
  },
  {
   "cell_type": "markdown",
   "id": "917c92ed",
   "metadata": {},
   "source": [
    "##### Scaling the data"
   ]
  },
  {
   "cell_type": "code",
   "execution_count": 18,
   "id": "95d2894b",
   "metadata": {},
   "outputs": [],
   "source": [
    "from sklearn.preprocessing import MinMaxScaler\n",
    "scaler = MinMaxScaler()"
   ]
  },
  {
   "cell_type": "code",
   "execution_count": 19,
   "id": "6ae4c2ca",
   "metadata": {},
   "outputs": [],
   "source": [
    "scaled_train = scaler.fit_transform(train)"
   ]
  },
  {
   "cell_type": "code",
   "execution_count": 20,
   "id": "83e12851",
   "metadata": {},
   "outputs": [],
   "source": [
    "scaled_test = scaler.transform(test)"
   ]
  },
  {
   "cell_type": "markdown",
   "id": "0db4238f",
   "metadata": {},
   "source": [
    "#### Creating batches"
   ]
  },
  {
   "cell_type": "code",
   "execution_count": 21,
   "id": "5e5477ad",
   "metadata": {},
   "outputs": [],
   "source": [
    "from tensorflow.keras.preprocessing.sequence import TimeseriesGenerator"
   ]
  },
  {
   "cell_type": "code",
   "execution_count": 22,
   "id": "f993f25a",
   "metadata": {},
   "outputs": [],
   "source": [
    "length = 50\n",
    "batch_size = 1\n",
    "\n",
    "generator = TimeseriesGenerator(scaled_train, scaled_train, length = length, batch_size = batch_size)"
   ]
  },
  {
   "cell_type": "code",
   "execution_count": 23,
   "id": "f933d382",
   "metadata": {},
   "outputs": [
    {
     "data": {
      "text/plain": [
       "451"
      ]
     },
     "execution_count": 23,
     "metadata": {},
     "output_type": "execute_result"
    }
   ],
   "source": [
    "len(scaled_train)"
   ]
  },
  {
   "cell_type": "code",
   "execution_count": 24,
   "id": "aa58e0e1",
   "metadata": {},
   "outputs": [
    {
     "data": {
      "text/plain": [
       "401"
      ]
     },
     "execution_count": 24,
     "metadata": {},
     "output_type": "execute_result"
    }
   ],
   "source": [
    "len(generator)"
   ]
  },
  {
   "cell_type": "code",
   "execution_count": 25,
   "id": "b61ad64d",
   "metadata": {},
   "outputs": [],
   "source": [
    "X, Y = generator[0]"
   ]
  },
  {
   "cell_type": "code",
   "execution_count": 26,
   "id": "781fafa6",
   "metadata": {},
   "outputs": [
    {
     "data": {
      "text/plain": [
       "array([[[4.99999116e-01],\n",
       "        [5.49916225e-01],\n",
       "        [5.99334579e-01],\n",
       "        [6.47760405e-01],\n",
       "        [6.94709850e-01],\n",
       "        [7.39713809e-01],\n",
       "        [7.82322618e-01],\n",
       "        [8.22110545e-01],\n",
       "        [8.58680040e-01],\n",
       "        [8.91665714e-01],\n",
       "        [9.20737985e-01],\n",
       "        [9.45606372e-01],\n",
       "        [9.66022399e-01],\n",
       "        [9.81782075e-01],\n",
       "        [9.92727935e-01],\n",
       "        [9.98750612e-01],\n",
       "        [9.99789928e-01],\n",
       "        [9.95835500e-01],\n",
       "        [9.86926839e-01],\n",
       "        [9.73152957e-01],\n",
       "        [9.54651478e-01],\n",
       "        [9.31607263e-01],\n",
       "        [9.04250562e-01],\n",
       "        [8.72854714e-01],\n",
       "        [8.37733417e-01],\n",
       "        [7.99237589e-01],\n",
       "        [7.57751870e-01],\n",
       "        [7.13690771e-01],\n",
       "        [6.67494535e-01],\n",
       "        [6.19624741e-01],\n",
       "        [5.70559686e-01],\n",
       "        [5.20789614e-01],\n",
       "        [4.70811810e-01],\n",
       "        [4.21125636e-01],\n",
       "        [3.72227539e-01],\n",
       "        [3.24606094e-01],\n",
       "        [2.78737119e-01],\n",
       "        [2.35078919e-01],\n",
       "        [1.94067715e-01],\n",
       "        [1.56113277e-01],\n",
       "        [1.21594831e-01],\n",
       "        [9.08572769e-02],\n",
       "        [6.42077324e-02],\n",
       "        [4.19124713e-02],\n",
       "        [2.41942605e-02],\n",
       "        [1.12301346e-02],\n",
       "        [3.14962674e-03],\n",
       "        [3.34747619e-05],\n",
       "        [1.91281421e-03],\n",
       "        [8.76886734e-03]]])"
      ]
     },
     "execution_count": 26,
     "metadata": {},
     "output_type": "execute_result"
    }
   ],
   "source": [
    "X"
   ]
  },
  {
   "cell_type": "code",
   "execution_count": 27,
   "id": "a926d80f",
   "metadata": {},
   "outputs": [
    {
     "data": {
      "text/plain": [
       "array([[0.02053313]])"
      ]
     },
     "execution_count": 27,
     "metadata": {},
     "output_type": "execute_result"
    }
   ],
   "source": [
    "Y"
   ]
  },
  {
   "cell_type": "code",
   "execution_count": 28,
   "id": "e64f561a",
   "metadata": {},
   "outputs": [
    {
     "data": {
      "text/plain": [
       "<AxesSubplot:>"
      ]
     },
     "execution_count": 28,
     "metadata": {},
     "output_type": "execute_result"
    },
    {
     "data": {
      "image/png": "[encoded data removed]",
      "text/plain": [
       "<Figure size 432x288 with 1 Axes>"
      ]
     },
     "metadata": {
      "needs_background": "light"
     },
     "output_type": "display_data"
    }
   ],
   "source": [
    "df.plot()"
   ]
  },
  {
   "cell_type": "code",
   "execution_count": 29,
   "id": "b5afc7d0",
   "metadata": {},
   "outputs": [],
   "source": [
    "from tensorflow.keras.models import Sequential\n",
    "from tensorflow.keras.layers import Dense, SimpleRNN, LSTM"
   ]
  },
  {
   "cell_type": "code",
   "execution_count": 30,
   "id": "6711d590",
   "metadata": {},
   "outputs": [],
   "source": [
    "n_features = 1"
   ]
  },
  {
   "cell_type": "code",
   "execution_count": 31,
   "id": "49c3ca5f",
   "metadata": {},
   "outputs": [],
   "source": [
    "model = Sequential()\n",
    "\n",
    "model.add(SimpleRNN(50, input_shape = (length, n_features)))\n",
    "\n",
    "model.add(Dense(1))\n",
    "\n",
    "model.compile(optimizer = 'adam', loss = 'mse')"
   ]
  },
  {
   "cell_type": "code",
   "execution_count": 32,
   "id": "a51f08ab",
   "metadata": {},
   "outputs": [
    {
     "name": "stdout",
     "output_type": "stream",
     "text": [
      "Model: \"sequential\"\n",
      "_________________________________________________________________\n",
      " Layer (type)                Output Shape              Param #   \n",
      "=================================================================\n",
      " simple_rnn (SimpleRNN)      (None, 50)                2600      \n",
      "                                                                 \n",
      " dense (Dense)               (None, 1)                 51        \n",
      "                                                                 \n",
      "=================================================================\n",
      "Total params: 2,651\n",
      "Trainable params: 2,651\n",
      "Non-trainable params: 0\n",
      "_________________________________________________________________\n"
     ]
    }
   ],
   "source": [
    "model.summary()"
   ]
  },
  {
   "cell_type": "code",
   "execution_count": 33,
   "id": "7e047aa5",
   "metadata": {},
   "outputs": [
    {
     "name": "stdout",
     "output_type": "stream",
     "text": [
      "Epoch 1/5\n"
     ]
    },
    {
     "name": "stderr",
     "output_type": "stream",
     "text": [
      "<timed eval>:1: UserWarning: `Model.fit_generator` is deprecated and will be removed in a future version. Please use `Model.fit`, which supports generators.\n"
     ]
    },
    {
     "name": "stdout",
     "output_type": "stream",
     "text": [
      "401/401 [==============================] - 11s 26ms/step - loss: 0.0077\n",
      "Epoch 2/5\n",
      "401/401 [==============================] - 10s 26ms/step - loss: 5.6187e-05\n",
      "Epoch 3/5\n",
      "401/401 [==============================] - 12s 31ms/step - loss: 4.8532e-04\n",
      "Epoch 4/5\n",
      "401/401 [==============================] - 13s 31ms/step - loss: 3.6155e-05\n",
      "Epoch 5/5\n",
      "401/401 [==============================] - 13s 31ms/step - loss: 4.1979e-04\n",
      "CPU times: total: 1min 43s\n",
      "Wall time: 59.5 s\n"
     ]
    },
    {
     "data": {
      "text/plain": [
       "<keras.callbacks.History at 0x281e49a0af0>"
      ]
     },
     "execution_count": 33,
     "metadata": {},
     "output_type": "execute_result"
    }
   ],
   "source": [
    "%%time\n",
    "model.fit_generator(generator, epochs = 5)"
   ]
  },
  {
   "cell_type": "code",
   "execution_count": 34,
   "id": "31bc3f87",
   "metadata": {},
   "outputs": [],
   "source": [
    "losses = pd.DataFrame(model.history.history)"
   ]
  },
  {
   "cell_type": "code",
   "execution_count": 35,
   "id": "e8c27a81",
   "metadata": {},
   "outputs": [
    {
     "data": {
      "text/plain": [
       "<AxesSubplot:>"
      ]
     },
     "execution_count": 35,
     "metadata": {},
     "output_type": "execute_result"
    },
    {
     "data": {
      "image/png": "[encoded data removed]",
      "text/plain": [
       "<Figure size 432x288 with 1 Axes>"
      ]
     },
     "metadata": {
      "needs_background": "light"
     },
     "output_type": "display_data"
    }
   ],
   "source": [
    "losses.plot()"
   ]
  },
  {
   "cell_type": "code",
   "execution_count": 36,
   "id": "b65ecc23",
   "metadata": {},
   "outputs": [],
   "source": [
    "first_eval_batch = scaled_train[-length:]"
   ]
  },
  {
   "cell_type": "code",
   "execution_count": 37,
   "id": "f7f26b23",
   "metadata": {},
   "outputs": [],
   "source": [
    "first_eval_batch = first_eval_batch.reshape((1, length, n_features))"
   ]
  },
  {
   "cell_type": "code",
   "execution_count": 38,
   "id": "ec82ca86",
   "metadata": {},
   "outputs": [
    {
     "data": {
      "text/plain": [
       "array([[0.9507757]], dtype=float32)"
      ]
     },
     "execution_count": 38,
     "metadata": {},
     "output_type": "execute_result"
    }
   ],
   "source": [
    "model.predict(first_eval_batch)"
   ]
  },
  {
   "cell_type": "code",
   "execution_count": 39,
   "id": "9167cb1f",
   "metadata": {},
   "outputs": [
    {
     "data": {
      "text/plain": [
       "array([0.94955134])"
      ]
     },
     "execution_count": 39,
     "metadata": {},
     "output_type": "execute_result"
    }
   ],
   "source": [
    "scaled_test[0]"
   ]
  },
  {
   "cell_type": "code",
   "execution_count": 40,
   "id": "1095fd57",
   "metadata": {},
   "outputs": [],
   "source": [
    "test_pred = []\n",
    "\n",
    "first_eval_batch = scaled_train[-length:]\n",
    "current_batch = first_eval_batch.reshape((1, length, n_features))\n",
    "\n",
    "for i in range(len(test)):\n",
    "    current_pred = model.predict(current_batch)[0]\n",
    "    test_pred.append(current_pred)\n",
    "    \n",
    "    current_batch = np.append(current_batch[:, 1:, :], [[current_pred]], axis = 1)"
   ]
  },
  {
   "cell_type": "code",
   "execution_count": 41,
   "id": "0150399f",
   "metadata": {},
   "outputs": [],
   "source": [
    "# predicted_value = [[[99]]]\n",
    "# np.append(current_batch[:, 1:, :], [[[99]]], axis = 1)"
   ]
  },
  {
   "cell_type": "code",
   "execution_count": 42,
   "id": "13c4e8ad",
   "metadata": {},
   "outputs": [
    {
     "data": {
      "text/plain": [
       "[array([0.9507757], dtype=float32),\n",
       " array([0.9697196], dtype=float32),\n",
       " array([0.984286], dtype=float32),\n",
       " array([0.99394906], dtype=float32),\n",
       " array([0.99806577], dtype=float32),\n",
       " array([0.99660045], dtype=float32),\n",
       " array([0.990827], dtype=float32),\n",
       " array([0.979598], dtype=float32),\n",
       " array([0.96359926], dtype=float32),\n",
       " array([0.94325906], dtype=float32),\n",
       " array([0.9190714], dtype=float32),\n",
       " array([0.8904876], dtype=float32),\n",
       " array([0.85856247], dtype=float32),\n",
       " array([0.82354003], dtype=float32),\n",
       " array([0.7856494], dtype=float32),\n",
       " array([0.74486846], dtype=float32),\n",
       " array([0.70252645], dtype=float32),\n",
       " array([0.6581615], dtype=float32),\n",
       " array([0.61243814], dtype=float32),\n",
       " array([0.5657219], dtype=float32),\n",
       " array([0.518669], dtype=float32),\n",
       " array([0.47100654], dtype=float32),\n",
       " array([0.42374432], dtype=float32),\n",
       " array([0.37695092], dtype=float32),\n",
       " array([0.33127138], dtype=float32),\n",
       " array([0.28677502], dtype=float32),\n",
       " array([0.2443498], dtype=float32),\n",
       " array([0.20423904], dtype=float32),\n",
       " array([0.16684584], dtype=float32),\n",
       " array([0.1326205], dtype=float32),\n",
       " array([0.10239413], dtype=float32),\n",
       " array([0.07592686], dtype=float32),\n",
       " array([0.05391401], dtype=float32),\n",
       " array([0.03669387], dtype=float32),\n",
       " array([0.0244341], dtype=float32),\n",
       " array([0.01675964], dtype=float32),\n",
       " array([0.01445748], dtype=float32),\n",
       " array([0.01721126], dtype=float32),\n",
       " array([0.02453676], dtype=float32),\n",
       " array([0.03647493], dtype=float32),\n",
       " array([0.05344349], dtype=float32),\n",
       " array([0.07409395], dtype=float32),\n",
       " array([0.0984797], dtype=float32),\n",
       " array([0.12699285], dtype=float32),\n",
       " array([0.15856381], dtype=float32),\n",
       " array([0.19241132], dtype=float32),\n",
       " array([0.22955826], dtype=float32),\n",
       " array([0.26896325], dtype=float32),\n",
       " array([0.30966857], dtype=float32),\n",
       " array([0.3523546], dtype=float32)]"
      ]
     },
     "execution_count": 42,
     "metadata": {},
     "output_type": "execute_result"
    }
   ],
   "source": [
    "test_pred"
   ]
  },
  {
   "cell_type": "code",
   "execution_count": 43,
   "id": "a10b33d6",
   "metadata": {},
   "outputs": [
    {
     "data": {
      "text/plain": [
       "array([[9.49551344e-01],\n",
       "       [9.69156618e-01],\n",
       "       [9.84074225e-01],\n",
       "       [9.94155114e-01],\n",
       "       [9.99298559e-01],\n",
       "       [9.99453170e-01],\n",
       "       [9.94617400e-01],\n",
       "       [9.84839568e-01],\n",
       "       [9.70217371e-01],\n",
       "       [9.50896908e-01],\n",
       "       [9.27071224e-01],\n",
       "       [8.98978376e-01],\n",
       "       [8.66899060e-01],\n",
       "       [8.31153800e-01],\n",
       "       [7.92099752e-01],\n",
       "       [7.50127132e-01],\n",
       "       [7.05655314e-01],\n",
       "       [6.59128649e-01],\n",
       "       [6.11012013e-01],\n",
       "       [5.61786173e-01],\n",
       "       [5.11942978e-01],\n",
       "       [4.61980443e-01],\n",
       "       [4.12397778e-01],\n",
       "       [3.63690397e-01],\n",
       "       [3.16344967e-01],\n",
       "       [2.70834550e-01],\n",
       "       [2.27613868e-01],\n",
       "       [1.87114770e-01],\n",
       "       [1.49741909e-01],\n",
       "       [1.15868702e-01],\n",
       "       [8.58335998e-02],\n",
       "       [5.99367021e-02],\n",
       "       [3.84367625e-02],\n",
       "       [2.15486014e-02],\n",
       "       [9.44095974e-03],\n",
       "       [2.23481297e-03],\n",
       "       [2.16257798e-06],\n",
       "       [2.76531647e-03],\n",
       "       [1.04966661e-02],\n",
       "       [2.31189624e-02],\n",
       "       [4.05060876e-02],\n",
       "       [6.24843152e-02],\n",
       "       [8.88340461e-02],\n",
       "       [1.19292002e-01],\n",
       "       [1.53553858e-01],\n",
       "       [1.91277281e-01],\n",
       "       [2.32085350e-01],\n",
       "       [2.75570325e-01],\n",
       "       [3.21297718e-01],\n",
       "       [3.68810636e-01]])"
      ]
     },
     "execution_count": 43,
     "metadata": {},
     "output_type": "execute_result"
    }
   ],
   "source": [
    "scaled_test"
   ]
  },
  {
   "cell_type": "code",
   "execution_count": 44,
   "id": "207ea5b4",
   "metadata": {},
   "outputs": [],
   "source": [
    "true_pred = scaler.inverse_transform(test_pred)"
   ]
  },
  {
   "cell_type": "code",
   "execution_count": 45,
   "id": "b1f314da",
   "metadata": {},
   "outputs": [
    {
     "data": {
      "text/plain": [
       "array([[ 0.9015459 ],\n",
       "       [ 0.93943341],\n",
       "       [ 0.96856602],\n",
       "       [ 0.98789195],\n",
       "       [ 0.99612531],\n",
       "       [ 0.9931947 ],\n",
       "       [ 0.98164794],\n",
       "       [ 0.95919004],\n",
       "       [ 0.92719286],\n",
       "       [ 0.88651277],\n",
       "       [ 0.83813779],\n",
       "       [ 0.78097072],\n",
       "       [ 0.71712095],\n",
       "       [ 0.64707664],\n",
       "       [ 0.57129602],\n",
       "       [ 0.48973475],\n",
       "       [ 0.40505142],\n",
       "       [ 0.31632227],\n",
       "       [ 0.22487625],\n",
       "       [ 0.13144457],\n",
       "       [ 0.03733949],\n",
       "       [-0.05798468],\n",
       "       [-0.15250837],\n",
       "       [-0.24609442],\n",
       "       [-0.33745276],\n",
       "       [-0.42644476],\n",
       "       [-0.51129454],\n",
       "       [-0.5915154 ],\n",
       "       [-0.6663012 ],\n",
       "       [-0.73475134],\n",
       "       [-0.79520358],\n",
       "       [-0.8481377 ],\n",
       "       [-0.89216306],\n",
       "       [-0.92660305],\n",
       "       [-0.95112239],\n",
       "       [-0.9664712 ],\n",
       "       [-0.97107548],\n",
       "       [-0.96556796],\n",
       "       [-0.95091708],\n",
       "       [-0.92704093],\n",
       "       [-0.89310409],\n",
       "       [-0.85180349],\n",
       "       [-0.8030324 ],\n",
       "       [-0.74600654],\n",
       "       [-0.68286514],\n",
       "       [-0.61517066],\n",
       "       [-0.54087737],\n",
       "       [-0.46206803],\n",
       "       [-0.38065804],\n",
       "       [-0.29528669]])"
      ]
     },
     "execution_count": 45,
     "metadata": {},
     "output_type": "execute_result"
    }
   ],
   "source": [
    "true_pred"
   ]
  },
  {
   "cell_type": "code",
   "execution_count": 46,
   "id": "9b6f4792",
   "metadata": {},
   "outputs": [
    {
     "name": "stderr",
     "output_type": "stream",
     "text": [
      "C:\\Users\\91773\\AppData\\Local\\Temp\\ipykernel_15784\\3456487850.py:1: SettingWithCopyWarning: \n",
      "A value is trying to be set on a copy of a slice from a DataFrame.\n",
      "Try using .loc[row_indexer,col_indexer] = value instead\n",
      "\n",
      "See the caveats in the documentation: https://pandas.pydata.org/pandas-docs/stable/user_guide/indexing.html#returning-a-view-versus-a-copy\n",
      "  test['Predictions'] = true_pred\n"
     ]
    }
   ],
   "source": [
    "test['Predictions'] = true_pred"
   ]
  },
  {
   "cell_type": "code",
   "execution_count": 47,
   "id": "f4aa870e",
   "metadata": {},
   "outputs": [
    {
     "data": {
      "text/html": [
       "<div>\n",
       "<style scoped>\n",
       "    .dataframe tbody tr th:only-of-type {\n",
       "        vertical-align: middle;\n",
       "    }\n",
       "\n",
       "    .dataframe tbody tr th {\n",
       "        vertical-align: top;\n",
       "    }\n",
       "\n",
       "    .dataframe thead th {\n",
       "        text-align: right;\n",
       "    }\n",
       "</style>\n",
       "<table border=\"1\" class=\"dataframe\">\n",
       "  <thead>\n",
       "    <tr style=\"text-align: right;\">\n",
       "      <th></th>\n",
       "      <th>Sine</th>\n",
       "      <th>Predictions</th>\n",
       "    </tr>\n",
       "  </thead>\n",
       "  <tbody>\n",
       "    <tr>\n",
       "      <th>45.1</th>\n",
       "      <td>0.899097</td>\n",
       "      <td>0.901546</td>\n",
       "    </tr>\n",
       "    <tr>\n",
       "      <th>45.2</th>\n",
       "      <td>0.938307</td>\n",
       "      <td>0.939433</td>\n",
       "    </tr>\n",
       "    <tr>\n",
       "      <th>45.3</th>\n",
       "      <td>0.968142</td>\n",
       "      <td>0.968566</td>\n",
       "    </tr>\n",
       "    <tr>\n",
       "      <th>45.4</th>\n",
       "      <td>0.988304</td>\n",
       "      <td>0.987892</td>\n",
       "    </tr>\n",
       "    <tr>\n",
       "      <th>45.5</th>\n",
       "      <td>0.998591</td>\n",
       "      <td>0.996125</td>\n",
       "    </tr>\n",
       "    <tr>\n",
       "      <th>45.6</th>\n",
       "      <td>0.998900</td>\n",
       "      <td>0.993195</td>\n",
       "    </tr>\n",
       "    <tr>\n",
       "      <th>45.7</th>\n",
       "      <td>0.989229</td>\n",
       "      <td>0.981648</td>\n",
       "    </tr>\n",
       "    <tr>\n",
       "      <th>45.8</th>\n",
       "      <td>0.969673</td>\n",
       "      <td>0.959190</td>\n",
       "    </tr>\n",
       "    <tr>\n",
       "      <th>45.9</th>\n",
       "      <td>0.940429</td>\n",
       "      <td>0.927193</td>\n",
       "    </tr>\n",
       "    <tr>\n",
       "      <th>46.0</th>\n",
       "      <td>0.901788</td>\n",
       "      <td>0.886513</td>\n",
       "    </tr>\n",
       "    <tr>\n",
       "      <th>46.1</th>\n",
       "      <td>0.854137</td>\n",
       "      <td>0.838138</td>\n",
       "    </tr>\n",
       "    <tr>\n",
       "      <th>46.2</th>\n",
       "      <td>0.797952</td>\n",
       "      <td>0.780971</td>\n",
       "    </tr>\n",
       "    <tr>\n",
       "      <th>46.3</th>\n",
       "      <td>0.733794</td>\n",
       "      <td>0.717121</td>\n",
       "    </tr>\n",
       "    <tr>\n",
       "      <th>46.4</th>\n",
       "      <td>0.662304</td>\n",
       "      <td>0.647077</td>\n",
       "    </tr>\n",
       "    <tr>\n",
       "      <th>46.5</th>\n",
       "      <td>0.584197</td>\n",
       "      <td>0.571296</td>\n",
       "    </tr>\n",
       "    <tr>\n",
       "      <th>46.6</th>\n",
       "      <td>0.500252</td>\n",
       "      <td>0.489735</td>\n",
       "    </tr>\n",
       "    <tr>\n",
       "      <th>46.7</th>\n",
       "      <td>0.411309</td>\n",
       "      <td>0.405051</td>\n",
       "    </tr>\n",
       "    <tr>\n",
       "      <th>46.8</th>\n",
       "      <td>0.318257</td>\n",
       "      <td>0.316322</td>\n",
       "    </tr>\n",
       "    <tr>\n",
       "      <th>46.9</th>\n",
       "      <td>0.222024</td>\n",
       "      <td>0.224876</td>\n",
       "    </tr>\n",
       "    <tr>\n",
       "      <th>47.0</th>\n",
       "      <td>0.123573</td>\n",
       "      <td>0.131445</td>\n",
       "    </tr>\n",
       "    <tr>\n",
       "      <th>47.1</th>\n",
       "      <td>0.023888</td>\n",
       "      <td>0.037339</td>\n",
       "    </tr>\n",
       "    <tr>\n",
       "      <th>47.2</th>\n",
       "      <td>-0.076037</td>\n",
       "      <td>-0.057985</td>\n",
       "    </tr>\n",
       "    <tr>\n",
       "      <th>47.3</th>\n",
       "      <td>-0.175201</td>\n",
       "      <td>-0.152508</td>\n",
       "    </tr>\n",
       "    <tr>\n",
       "      <th>47.4</th>\n",
       "      <td>-0.272615</td>\n",
       "      <td>-0.246094</td>\n",
       "    </tr>\n",
       "    <tr>\n",
       "      <th>47.5</th>\n",
       "      <td>-0.367305</td>\n",
       "      <td>-0.337453</td>\n",
       "    </tr>\n",
       "    <tr>\n",
       "      <th>47.6</th>\n",
       "      <td>-0.458325</td>\n",
       "      <td>-0.426445</td>\n",
       "    </tr>\n",
       "    <tr>\n",
       "      <th>47.7</th>\n",
       "      <td>-0.544766</td>\n",
       "      <td>-0.511295</td>\n",
       "    </tr>\n",
       "    <tr>\n",
       "      <th>47.8</th>\n",
       "      <td>-0.625764</td>\n",
       "      <td>-0.591515</td>\n",
       "    </tr>\n",
       "    <tr>\n",
       "      <th>47.9</th>\n",
       "      <td>-0.700509</td>\n",
       "      <td>-0.666301</td>\n",
       "    </tr>\n",
       "    <tr>\n",
       "      <th>48.0</th>\n",
       "      <td>-0.768255</td>\n",
       "      <td>-0.734751</td>\n",
       "    </tr>\n",
       "    <tr>\n",
       "      <th>48.1</th>\n",
       "      <td>-0.828324</td>\n",
       "      <td>-0.795204</td>\n",
       "    </tr>\n",
       "    <tr>\n",
       "      <th>48.2</th>\n",
       "      <td>-0.880118</td>\n",
       "      <td>-0.848138</td>\n",
       "    </tr>\n",
       "    <tr>\n",
       "      <th>48.3</th>\n",
       "      <td>-0.923117</td>\n",
       "      <td>-0.892163</td>\n",
       "    </tr>\n",
       "    <tr>\n",
       "      <th>48.4</th>\n",
       "      <td>-0.956893</td>\n",
       "      <td>-0.926603</td>\n",
       "    </tr>\n",
       "    <tr>\n",
       "      <th>48.5</th>\n",
       "      <td>-0.981108</td>\n",
       "      <td>-0.951122</td>\n",
       "    </tr>\n",
       "    <tr>\n",
       "      <th>48.6</th>\n",
       "      <td>-0.995521</td>\n",
       "      <td>-0.966471</td>\n",
       "    </tr>\n",
       "    <tr>\n",
       "      <th>48.7</th>\n",
       "      <td>-0.999986</td>\n",
       "      <td>-0.971075</td>\n",
       "    </tr>\n",
       "    <tr>\n",
       "      <th>48.8</th>\n",
       "      <td>-0.994460</td>\n",
       "      <td>-0.965568</td>\n",
       "    </tr>\n",
       "    <tr>\n",
       "      <th>48.9</th>\n",
       "      <td>-0.978997</td>\n",
       "      <td>-0.950917</td>\n",
       "    </tr>\n",
       "    <tr>\n",
       "      <th>49.0</th>\n",
       "      <td>-0.953753</td>\n",
       "      <td>-0.927041</td>\n",
       "    </tr>\n",
       "    <tr>\n",
       "      <th>49.1</th>\n",
       "      <td>-0.918979</td>\n",
       "      <td>-0.893104</td>\n",
       "    </tr>\n",
       "    <tr>\n",
       "      <th>49.2</th>\n",
       "      <td>-0.875023</td>\n",
       "      <td>-0.851803</td>\n",
       "    </tr>\n",
       "    <tr>\n",
       "      <th>49.3</th>\n",
       "      <td>-0.822324</td>\n",
       "      <td>-0.803032</td>\n",
       "    </tr>\n",
       "    <tr>\n",
       "      <th>49.4</th>\n",
       "      <td>-0.761408</td>\n",
       "      <td>-0.746007</td>\n",
       "    </tr>\n",
       "    <tr>\n",
       "      <th>49.5</th>\n",
       "      <td>-0.692885</td>\n",
       "      <td>-0.682865</td>\n",
       "    </tr>\n",
       "    <tr>\n",
       "      <th>49.6</th>\n",
       "      <td>-0.617439</td>\n",
       "      <td>-0.615171</td>\n",
       "    </tr>\n",
       "    <tr>\n",
       "      <th>49.7</th>\n",
       "      <td>-0.535823</td>\n",
       "      <td>-0.540877</td>\n",
       "    </tr>\n",
       "    <tr>\n",
       "      <th>49.8</th>\n",
       "      <td>-0.448854</td>\n",
       "      <td>-0.462068</td>\n",
       "    </tr>\n",
       "    <tr>\n",
       "      <th>49.9</th>\n",
       "      <td>-0.357400</td>\n",
       "      <td>-0.380658</td>\n",
       "    </tr>\n",
       "    <tr>\n",
       "      <th>50.0</th>\n",
       "      <td>-0.262375</td>\n",
       "      <td>-0.295287</td>\n",
       "    </tr>\n",
       "  </tbody>\n",
       "</table>\n",
       "</div>"
      ],
      "text/plain": [
       "          Sine  Predictions\n",
       "45.1  0.899097     0.901546\n",
       "45.2  0.938307     0.939433\n",
       "45.3  0.968142     0.968566\n",
       "45.4  0.988304     0.987892\n",
       "45.5  0.998591     0.996125\n",
       "45.6  0.998900     0.993195\n",
       "45.7  0.989229     0.981648\n",
       "45.8  0.969673     0.959190\n",
       "45.9  0.940429     0.927193\n",
       "46.0  0.901788     0.886513\n",
       "46.1  0.854137     0.838138\n",
       "46.2  0.797952     0.780971\n",
       "46.3  0.733794     0.717121\n",
       "46.4  0.662304     0.647077\n",
       "46.5  0.584197     0.571296\n",
       "46.6  0.500252     0.489735\n",
       "46.7  0.411309     0.405051\n",
       "46.8  0.318257     0.316322\n",
       "46.9  0.222024     0.224876\n",
       "47.0  0.123573     0.131445\n",
       "47.1  0.023888     0.037339\n",
       "47.2 -0.076037    -0.057985\n",
       "47.3 -0.175201    -0.152508\n",
       "47.4 -0.272615    -0.246094\n",
       "47.5 -0.367305    -0.337453\n",
       "47.6 -0.458325    -0.426445\n",
       "47.7 -0.544766    -0.511295\n",
       "47.8 -0.625764    -0.591515\n",
       "47.9 -0.700509    -0.666301\n",
       "48.0 -0.768255    -0.734751\n",
       "48.1 -0.828324    -0.795204\n",
       "48.2 -0.880118    -0.848138\n",
       "48.3 -0.923117    -0.892163\n",
       "48.4 -0.956893    -0.926603\n",
       "48.5 -0.981108    -0.951122\n",
       "48.6 -0.995521    -0.966471\n",
       "48.7 -0.999986    -0.971075\n",
       "48.8 -0.994460    -0.965568\n",
       "48.9 -0.978997    -0.950917\n",
       "49.0 -0.953753    -0.927041\n",
       "49.1 -0.918979    -0.893104\n",
       "49.2 -0.875023    -0.851803\n",
       "49.3 -0.822324    -0.803032\n",
       "49.4 -0.761408    -0.746007\n",
       "49.5 -0.692885    -0.682865\n",
       "49.6 -0.617439    -0.615171\n",
       "49.7 -0.535823    -0.540877\n",
       "49.8 -0.448854    -0.462068\n",
       "49.9 -0.357400    -0.380658\n",
       "50.0 -0.262375    -0.295287"
      ]
     },
     "execution_count": 47,
     "metadata": {},
     "output_type": "execute_result"
    }
   ],
   "source": [
    "test"
   ]
  },
  {
   "cell_type": "code",
   "execution_count": 48,
   "id": "5c0f8446",
   "metadata": {},
   "outputs": [
    {
     "data": {
      "text/plain": [
       "<AxesSubplot:>"
      ]
     },
     "execution_count": 48,
     "metadata": {},
     "output_type": "execute_result"
    },
    {
     "data": {
      "image/png": "[encoded data removed]",
      "text/plain": [
       "<Figure size 432x288 with 1 Axes>"
      ]
     },
     "metadata": {
      "needs_background": "light"
     },
     "output_type": "display_data"
    }
   ],
   "source": [
    "test.plot()"
   ]
  },
  {
   "cell_type": "code",
   "execution_count": 49,
   "id": "7d565513",
   "metadata": {},
   "outputs": [],
   "source": [
    "from tensorflow.keras.callbacks import EarlyStopping"
   ]
  },
  {
   "cell_type": "code",
   "execution_count": 50,
   "id": "fc11093b",
   "metadata": {},
   "outputs": [],
   "source": [
    "early_stop = EarlyStopping(monitor = 'val_loss', patience = 2)"
   ]
  },
  {
   "cell_type": "code",
   "execution_count": 51,
   "id": "dd99c86e",
   "metadata": {},
   "outputs": [],
   "source": [
    "length = 49\n",
    "generator = TimeseriesGenerator(scaled_train, scaled_train, length = length, batch_size = 1)\n",
    "\n",
    "validation_generator = TimeseriesGenerator(scaled_test, scaled_test, length = length, batch_size = 1)"
   ]
  },
  {
   "cell_type": "code",
   "execution_count": 52,
   "id": "793cbb5e",
   "metadata": {},
   "outputs": [],
   "source": [
    "model = Sequential()\n",
    "\n",
    "model.add(LSTM(50, input_shape = (length, n_features)))\n",
    "\n",
    "model.add(Dense(1))\n",
    "\n",
    "model.compile(optimizer = 'adam', loss = 'mse')"
   ]
  },
  {
   "cell_type": "code",
   "execution_count": 53,
   "id": "c6d90481",
   "metadata": {},
   "outputs": [
    {
     "name": "stdout",
     "output_type": "stream",
     "text": [
      "Epoch 1/20\n"
     ]
    },
    {
     "name": "stderr",
     "output_type": "stream",
     "text": [
      "<timed eval>:1: UserWarning: `Model.fit_generator` is deprecated and will be removed in a future version. Please use `Model.fit`, which supports generators.\n"
     ]
    },
    {
     "name": "stdout",
     "output_type": "stream",
     "text": [
      "402/402 [==============================] - 4s 5ms/step - loss: 0.0147 - val_loss: 1.7555e-04\n",
      "Epoch 2/20\n",
      "402/402 [==============================] - 2s 5ms/step - loss: 2.0905e-04 - val_loss: 1.0021e-04\n",
      "Epoch 3/20\n",
      "402/402 [==============================] - 2s 5ms/step - loss: 3.1772e-04 - val_loss: 9.3694e-05\n",
      "Epoch 4/20\n",
      "402/402 [==============================] - 2s 5ms/step - loss: 9.4897e-05 - val_loss: 2.4858e-05\n",
      "Epoch 5/20\n",
      "402/402 [==============================] - 2s 4ms/step - loss: 5.1144e-05 - val_loss: 2.2256e-05\n",
      "Epoch 6/20\n",
      "402/402 [==============================] - 2s 5ms/step - loss: 1.9271e-04 - val_loss: 8.9314e-05\n",
      "Epoch 7/20\n",
      "402/402 [==============================] - 2s 5ms/step - loss: 1.0208e-04 - val_loss: 1.6719e-06\n",
      "Epoch 8/20\n",
      "402/402 [==============================] - 2s 4ms/step - loss: 3.3597e-04 - val_loss: 3.9299e-04\n",
      "Epoch 9/20\n",
      "402/402 [==============================] - 2s 5ms/step - loss: 9.4033e-04 - val_loss: 5.6466e-06\n",
      "CPU times: total: 22.8 s\n",
      "Wall time: 18.9 s\n"
     ]
    },
    {
     "data": {
      "text/plain": [
       "<keras.callbacks.History at 0x282a1d32620>"
      ]
     },
     "execution_count": 53,
     "metadata": {},
     "output_type": "execute_result"
    }
   ],
   "source": [
    "%%time\n",
    "model.fit_generator(generator, epochs = 20, validation_data = validation_generator, callbacks = [early_stop])"
   ]
  },
  {
   "cell_type": "code",
   "execution_count": 54,
   "id": "9ffea811",
   "metadata": {},
   "outputs": [],
   "source": [
    "test_pred = []\n",
    "\n",
    "first_eval_batch = scaled_train[-length:]\n",
    "current_batch = first_eval_batch.reshape((1, length, n_features))\n",
    "\n",
    "for i in range(len(test)):\n",
    "    current_pred = model.predict(current_batch)[0]\n",
    "    test_pred.append(current_pred)\n",
    "    \n",
    "    current_batch = np.append(current_batch[:, 1:, :], [[current_pred]], axis = 1)"
   ]
  },
  {
   "cell_type": "code",
   "execution_count": 55,
   "id": "efe75fe7",
   "metadata": {},
   "outputs": [
    {
     "name": "stderr",
     "output_type": "stream",
     "text": [
      "C:\\Users\\91773\\AppData\\Local\\Temp\\ipykernel_15784\\436942892.py:2: SettingWithCopyWarning: \n",
      "A value is trying to be set on a copy of a slice from a DataFrame.\n",
      "Try using .loc[row_indexer,col_indexer] = value instead\n",
      "\n",
      "See the caveats in the documentation: https://pandas.pydata.org/pandas-docs/stable/user_guide/indexing.html#returning-a-view-versus-a-copy\n",
      "  test['LSTM Predictions'] = true_pred\n"
     ]
    },
    {
     "data": {
      "text/plain": [
       "<AxesSubplot:>"
      ]
     },
     "execution_count": 55,
     "metadata": {},
     "output_type": "execute_result"
    },
    {
     "data": {
      "image/png": "[encoded data removed]",
      "text/plain": [
       "<Figure size 432x288 with 1 Axes>"
      ]
     },
     "metadata": {
      "needs_background": "light"
     },
     "output_type": "display_data"
    }
   ],
   "source": [
    "true_pred = scaler.inverse_transform(test_pred)\n",
    "test['LSTM Predictions'] = true_pred\n",
    "test.plot()"
   ]
  },
  {
   "cell_type": "code",
   "execution_count": 56,
   "id": "9c24854b",
   "metadata": {},
   "outputs": [],
   "source": [
    "fullScaler = MinMaxScaler()\n",
    "\n",
    "scaled_data = fullScaler.fit_transform(df)"
   ]
  },
  {
   "cell_type": "code",
   "execution_count": 57,
   "id": "992f432b",
   "metadata": {},
   "outputs": [],
   "source": [
    "generator = TimeseriesGenerator(scaled_data, scaled_data, length = length, batch_size = 1)"
   ]
  },
  {
   "cell_type": "code",
   "execution_count": 58,
   "id": "648b3bfd",
   "metadata": {},
   "outputs": [],
   "source": [
    "model = Sequential()\n",
    "\n",
    "model.add(LSTM(50, input_shape = (length, n_features)))\n",
    "\n",
    "model.add(Dense(1))\n",
    "\n",
    "model.compile(optimizer = 'adam', loss = 'mse')"
   ]
  },
  {
   "cell_type": "code",
   "execution_count": 59,
   "id": "48caced1",
   "metadata": {},
   "outputs": [
    {
     "name": "stdout",
     "output_type": "stream",
     "text": [
      "Epoch 1/10\n"
     ]
    },
    {
     "name": "stderr",
     "output_type": "stream",
     "text": [
      "<timed eval>:1: UserWarning: `Model.fit_generator` is deprecated and will be removed in a future version. Please use `Model.fit`, which supports generators.\n"
     ]
    },
    {
     "name": "stdout",
     "output_type": "stream",
     "text": [
      "452/452 [==============================] - 3s 5ms/step - loss: 0.0105\n",
      "Epoch 2/10\n",
      "452/452 [==============================] - 2s 4ms/step - loss: 8.4905e-05\n",
      "Epoch 3/10\n",
      "452/452 [==============================] - 2s 5ms/step - loss: 1.1402e-04\n",
      "Epoch 4/10\n",
      "452/452 [==============================] - 2s 4ms/step - loss: 5.3206e-04\n",
      "Epoch 5/10\n",
      "452/452 [==============================] - 2s 4ms/step - loss: 4.8632e-05\n",
      "Epoch 6/10\n",
      "452/452 [==============================] - 2s 4ms/step - loss: 3.9462e-05\n",
      "Epoch 7/10\n",
      "452/452 [==============================] - 2s 4ms/step - loss: 6.3530e-05\n",
      "Epoch 8/10\n",
      "452/452 [==============================] - 2s 4ms/step - loss: 1.2088e-04\n",
      "Epoch 9/10\n",
      "452/452 [==============================] - 2s 4ms/step - loss: 1.6306e-04\n",
      "Epoch 10/10\n",
      "452/452 [==============================] - 2s 4ms/step - loss: 2.0433e-05\n",
      "CPU times: total: 26.2 s\n",
      "Wall time: 21.2 s\n"
     ]
    },
    {
     "data": {
      "text/plain": [
       "<keras.callbacks.History at 0x282a1ce7f40>"
      ]
     },
     "execution_count": 59,
     "metadata": {},
     "output_type": "execute_result"
    }
   ],
   "source": [
    "%%time\n",
    "model.fit_generator(generator, epochs = 10)"
   ]
  },
  {
   "cell_type": "code",
   "execution_count": 60,
   "id": "f246f0f3",
   "metadata": {},
   "outputs": [],
   "source": [
    "forecast = []\n",
    "\n",
    "first_eval_batch = scaled_train[-length:]\n",
    "current_batch = first_eval_batch.reshape((1, length, n_features))\n",
    "\n",
    "for i in range(25):\n",
    "    current_pred = model.predict(current_batch)[0]\n",
    "    forecast.append(current_pred)\n",
    "    \n",
    "    current_batch = np.append(current_batch[:, 1:, :], [[current_pred]], axis = 1)"
   ]
  },
  {
   "cell_type": "code",
   "execution_count": 61,
   "id": "0a07964b",
   "metadata": {},
   "outputs": [],
   "source": [
    "forecast = scaler.inverse_transform(forecast)"
   ]
  },
  {
   "cell_type": "code",
   "execution_count": 62,
   "id": "ac579a36",
   "metadata": {},
   "outputs": [
    {
     "data": {
      "text/plain": [
       "array([[ 0.90004304],\n",
       "       [ 0.93793448],\n",
       "       [ 0.96609244],\n",
       "       [ 0.98417623],\n",
       "       [ 0.99195457],\n",
       "       [ 0.9893091 ],\n",
       "       [ 0.9762335 ],\n",
       "       [ 0.95282932],\n",
       "       [ 0.91930258],\n",
       "       [ 0.87595962],\n",
       "       [ 0.8232023 ],\n",
       "       [ 0.76152367],\n",
       "       [ 0.69150499],\n",
       "       [ 0.61381191],\n",
       "       [ 0.52919188],\n",
       "       [ 0.43847052],\n",
       "       [ 0.34254739],\n",
       "       [ 0.24239046],\n",
       "       [ 0.13902801],\n",
       "       [ 0.03353758],\n",
       "       [-0.07296649],\n",
       "       [-0.17934931],\n",
       "       [-0.28447145],\n",
       "       [-0.38720627],\n",
       "       [-0.4864568 ]])"
      ]
     },
     "execution_count": 62,
     "metadata": {},
     "output_type": "execute_result"
    }
   ],
   "source": [
    "forecast"
   ]
  },
  {
   "cell_type": "code",
   "execution_count": null,
   "id": "13dd44b0",
   "metadata": {},
   "outputs": [],
   "source": [
    "forecast_index = np.arange(50.1, 52.6) # 25 *"
   ]
  }
 ],
 "metadata": {
  "kernelspec": {
   "display_name": "Python 3 (ipykernel)",
   "language": "python",
   "name": "python3"
  },
  "language_info": {
   "codemirror_mode": {
    "name": "ipython",
    "version": 3
   },
   "file_extension": ".py",
   "mimetype": "text/x-python",
   "name": "python",
   "nbconvert_exporter": "python",
   "pygments_lexer": "ipython3",
   "version": "3.10.2"
  }
 },
 "nbformat": 4,
 "nbformat_minor": 5
}
